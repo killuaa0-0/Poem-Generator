{
 "cells": [
  {
   "cell_type": "code",
   "execution_count": 1,
   "id": "2880e870",
   "metadata": {},
   "outputs": [
    {
     "name": "stdout",
     "output_type": "stream",
     "text": [
      "Requirement already satisfied: ollama in c:\\users\\msi -pc\\appdata\\local\\programs\\python\\python312\\lib\\site-packages (0.5.1)\n",
      "Requirement already satisfied: httpx>=0.27 in c:\\users\\msi -pc\\appdata\\local\\programs\\python\\python312\\lib\\site-packages (from ollama) (0.28.1)\n",
      "Requirement already satisfied: pydantic>=2.9 in c:\\users\\msi -pc\\appdata\\local\\programs\\python\\python312\\lib\\site-packages (from ollama) (2.11.7)\n",
      "Requirement already satisfied: anyio in c:\\users\\msi -pc\\appdata\\local\\programs\\python\\python312\\lib\\site-packages (from httpx>=0.27->ollama) (4.9.0)\n",
      "Requirement already satisfied: certifi in c:\\users\\msi -pc\\appdata\\local\\programs\\python\\python312\\lib\\site-packages (from httpx>=0.27->ollama) (2024.8.30)\n",
      "Requirement already satisfied: httpcore==1.* in c:\\users\\msi -pc\\appdata\\local\\programs\\python\\python312\\lib\\site-packages (from httpx>=0.27->ollama) (1.0.9)\n",
      "Requirement already satisfied: idna in c:\\users\\msi -pc\\appdata\\local\\programs\\python\\python312\\lib\\site-packages (from httpx>=0.27->ollama) (3.10)\n",
      "Requirement already satisfied: h11>=0.16 in c:\\users\\msi -pc\\appdata\\local\\programs\\python\\python312\\lib\\site-packages (from httpcore==1.*->httpx>=0.27->ollama) (0.16.0)\n",
      "Requirement already satisfied: annotated-types>=0.6.0 in c:\\users\\msi -pc\\appdata\\local\\programs\\python\\python312\\lib\\site-packages (from pydantic>=2.9->ollama) (0.7.0)\n",
      "Requirement already satisfied: pydantic-core==2.33.2 in c:\\users\\msi -pc\\appdata\\local\\programs\\python\\python312\\lib\\site-packages (from pydantic>=2.9->ollama) (2.33.2)\n",
      "Requirement already satisfied: typing-extensions>=4.12.2 in c:\\users\\msi -pc\\appdata\\local\\programs\\python\\python312\\lib\\site-packages (from pydantic>=2.9->ollama) (4.12.2)\n",
      "Requirement already satisfied: typing-inspection>=0.4.0 in c:\\users\\msi -pc\\appdata\\local\\programs\\python\\python312\\lib\\site-packages (from pydantic>=2.9->ollama) (0.4.1)\n",
      "Requirement already satisfied: sniffio>=1.1 in c:\\users\\msi -pc\\appdata\\local\\programs\\python\\python312\\lib\\site-packages (from anyio->httpx>=0.27->ollama) (1.3.1)\n",
      "Note: you may need to restart the kernel to use updated packages.\n"
     ]
    },
    {
     "name": "stderr",
     "output_type": "stream",
     "text": [
      "\n",
      "[notice] A new release of pip is available: 24.3.1 -> 25.1.1\n",
      "[notice] To update, run: python.exe -m pip install --upgrade pip\n"
     ]
    }
   ],
   "source": [
    "%pip install ollama\n"
   ]
  },
  {
   "cell_type": "code",
   "execution_count": 2,
   "id": "548790d5",
   "metadata": {},
   "outputs": [
    {
     "name": "stdout",
     "output_type": "stream",
     "text": [
      "Requirement already satisfied: gradio in c:\\users\\msi -pc\\appdata\\local\\programs\\python\\python312\\lib\\site-packages (5.35.0)\n",
      "Requirement already satisfied: aiofiles<25.0,>=22.0 in c:\\users\\msi -pc\\appdata\\local\\programs\\python\\python312\\lib\\site-packages (from gradio) (24.1.0)\n",
      "Requirement already satisfied: anyio<5.0,>=3.0 in c:\\users\\msi -pc\\appdata\\local\\programs\\python\\python312\\lib\\site-packages (from gradio) (4.9.0)\n",
      "Requirement already satisfied: fastapi<1.0,>=0.115.2 in c:\\users\\msi -pc\\appdata\\local\\programs\\python\\python312\\lib\\site-packages (from gradio) (0.115.14)\n",
      "Requirement already satisfied: ffmpy in c:\\users\\msi -pc\\appdata\\local\\programs\\python\\python312\\lib\\site-packages (from gradio) (0.6.0)\n",
      "Requirement already satisfied: gradio-client==1.10.4 in c:\\users\\msi -pc\\appdata\\local\\programs\\python\\python312\\lib\\site-packages (from gradio) (1.10.4)\n",
      "Requirement already satisfied: groovy~=0.1 in c:\\users\\msi -pc\\appdata\\local\\programs\\python\\python312\\lib\\site-packages (from gradio) (0.1.2)\n",
      "Requirement already satisfied: httpx>=0.24.1 in c:\\users\\msi -pc\\appdata\\local\\programs\\python\\python312\\lib\\site-packages (from gradio) (0.28.1)\n",
      "Requirement already satisfied: huggingface-hub>=0.28.1 in c:\\users\\msi -pc\\appdata\\local\\programs\\python\\python312\\lib\\site-packages (from gradio) (0.33.2)\n",
      "Requirement already satisfied: jinja2<4.0 in c:\\users\\msi -pc\\appdata\\local\\programs\\python\\python312\\lib\\site-packages (from gradio) (3.1.3)\n",
      "Requirement already satisfied: markupsafe<4.0,>=2.0 in c:\\users\\msi -pc\\appdata\\local\\programs\\python\\python312\\lib\\site-packages (from gradio) (2.1.5)\n",
      "Requirement already satisfied: numpy<3.0,>=1.0 in c:\\users\\msi -pc\\appdata\\local\\programs\\python\\python312\\lib\\site-packages (from gradio) (1.26.3)\n",
      "Requirement already satisfied: orjson~=3.0 in c:\\users\\msi -pc\\appdata\\local\\programs\\python\\python312\\lib\\site-packages (from gradio) (3.10.18)\n",
      "Requirement already satisfied: packaging in c:\\users\\msi -pc\\appdata\\local\\programs\\python\\python312\\lib\\site-packages (from gradio) (24.2)\n",
      "Requirement already satisfied: pandas<3.0,>=1.0 in c:\\users\\msi -pc\\appdata\\local\\programs\\python\\python312\\lib\\site-packages (from gradio) (2.2.3)\n",
      "Requirement already satisfied: pillow<12.0,>=8.0 in c:\\users\\msi -pc\\appdata\\local\\programs\\python\\python312\\lib\\site-packages (from gradio) (11.0.0)\n",
      "Requirement already satisfied: pydantic<2.12,>=2.0 in c:\\users\\msi -pc\\appdata\\local\\programs\\python\\python312\\lib\\site-packages (from gradio) (2.11.7)\n",
      "Requirement already satisfied: pydub in c:\\users\\msi -pc\\appdata\\local\\programs\\python\\python312\\lib\\site-packages (from gradio) (0.25.1)\n",
      "Requirement already satisfied: python-multipart>=0.0.18 in c:\\users\\msi -pc\\appdata\\local\\programs\\python\\python312\\lib\\site-packages (from gradio) (0.0.20)\n",
      "Requirement already satisfied: pyyaml<7.0,>=5.0 in c:\\users\\msi -pc\\appdata\\local\\programs\\python\\python312\\lib\\site-packages (from gradio) (6.0.2)\n",
      "Requirement already satisfied: ruff>=0.9.3 in c:\\users\\msi -pc\\appdata\\local\\programs\\python\\python312\\lib\\site-packages (from gradio) (0.12.2)\n",
      "Requirement already satisfied: safehttpx<0.2.0,>=0.1.6 in c:\\users\\msi -pc\\appdata\\local\\programs\\python\\python312\\lib\\site-packages (from gradio) (0.1.6)\n",
      "Requirement already satisfied: semantic-version~=2.0 in c:\\users\\msi -pc\\appdata\\local\\programs\\python\\python312\\lib\\site-packages (from gradio) (2.10.0)\n",
      "Requirement already satisfied: starlette<1.0,>=0.40.0 in c:\\users\\msi -pc\\appdata\\local\\programs\\python\\python312\\lib\\site-packages (from gradio) (0.46.2)\n",
      "Requirement already satisfied: tomlkit<0.14.0,>=0.12.0 in c:\\users\\msi -pc\\appdata\\local\\programs\\python\\python312\\lib\\site-packages (from gradio) (0.13.3)\n",
      "Requirement already satisfied: typer<1.0,>=0.12 in c:\\users\\msi -pc\\appdata\\local\\programs\\python\\python312\\lib\\site-packages (from gradio) (0.16.0)\n",
      "Requirement already satisfied: typing-extensions~=4.0 in c:\\users\\msi -pc\\appdata\\local\\programs\\python\\python312\\lib\\site-packages (from gradio) (4.12.2)\n",
      "Requirement already satisfied: uvicorn>=0.14.0 in c:\\users\\msi -pc\\appdata\\local\\programs\\python\\python312\\lib\\site-packages (from gradio) (0.35.0)\n",
      "Requirement already satisfied: fsspec in c:\\users\\msi -pc\\appdata\\local\\programs\\python\\python312\\lib\\site-packages (from gradio-client==1.10.4->gradio) (2024.2.0)\n",
      "Requirement already satisfied: websockets<16.0,>=10.0 in c:\\users\\msi -pc\\appdata\\local\\programs\\python\\python312\\lib\\site-packages (from gradio-client==1.10.4->gradio) (15.0.1)\n",
      "Requirement already satisfied: idna>=2.8 in c:\\users\\msi -pc\\appdata\\local\\programs\\python\\python312\\lib\\site-packages (from anyio<5.0,>=3.0->gradio) (3.10)\n",
      "Requirement already satisfied: sniffio>=1.1 in c:\\users\\msi -pc\\appdata\\local\\programs\\python\\python312\\lib\\site-packages (from anyio<5.0,>=3.0->gradio) (1.3.1)\n",
      "Requirement already satisfied: certifi in c:\\users\\msi -pc\\appdata\\local\\programs\\python\\python312\\lib\\site-packages (from httpx>=0.24.1->gradio) (2024.8.30)\n",
      "Requirement already satisfied: httpcore==1.* in c:\\users\\msi -pc\\appdata\\local\\programs\\python\\python312\\lib\\site-packages (from httpx>=0.24.1->gradio) (1.0.9)\n",
      "Requirement already satisfied: h11>=0.16 in c:\\users\\msi -pc\\appdata\\local\\programs\\python\\python312\\lib\\site-packages (from httpcore==1.*->httpx>=0.24.1->gradio) (0.16.0)\n",
      "Requirement already satisfied: filelock in c:\\users\\msi -pc\\appdata\\local\\programs\\python\\python312\\lib\\site-packages (from huggingface-hub>=0.28.1->gradio) (3.13.1)\n",
      "Requirement already satisfied: requests in c:\\users\\msi -pc\\appdata\\local\\programs\\python\\python312\\lib\\site-packages (from huggingface-hub>=0.28.1->gradio) (2.32.3)\n",
      "Requirement already satisfied: tqdm>=4.42.1 in c:\\users\\msi -pc\\appdata\\local\\programs\\python\\python312\\lib\\site-packages (from huggingface-hub>=0.28.1->gradio) (4.67.0)\n",
      "Requirement already satisfied: python-dateutil>=2.8.2 in c:\\users\\msi -pc\\appdata\\local\\programs\\python\\python312\\lib\\site-packages (from pandas<3.0,>=1.0->gradio) (2.9.0.post0)\n",
      "Requirement already satisfied: pytz>=2020.1 in c:\\users\\msi -pc\\appdata\\local\\programs\\python\\python312\\lib\\site-packages (from pandas<3.0,>=1.0->gradio) (2024.2)\n",
      "Requirement already satisfied: tzdata>=2022.7 in c:\\users\\msi -pc\\appdata\\local\\programs\\python\\python312\\lib\\site-packages (from pandas<3.0,>=1.0->gradio) (2024.2)\n",
      "Requirement already satisfied: annotated-types>=0.6.0 in c:\\users\\msi -pc\\appdata\\local\\programs\\python\\python312\\lib\\site-packages (from pydantic<2.12,>=2.0->gradio) (0.7.0)\n",
      "Requirement already satisfied: pydantic-core==2.33.2 in c:\\users\\msi -pc\\appdata\\local\\programs\\python\\python312\\lib\\site-packages (from pydantic<2.12,>=2.0->gradio) (2.33.2)\n",
      "Requirement already satisfied: typing-inspection>=0.4.0 in c:\\users\\msi -pc\\appdata\\local\\programs\\python\\python312\\lib\\site-packages (from pydantic<2.12,>=2.0->gradio) (0.4.1)\n",
      "Requirement already satisfied: click>=8.0.0 in c:\\users\\msi -pc\\appdata\\local\\programs\\python\\python312\\lib\\site-packages (from typer<1.0,>=0.12->gradio) (8.1.7)\n",
      "Requirement already satisfied: shellingham>=1.3.0 in c:\\users\\msi -pc\\appdata\\local\\programs\\python\\python312\\lib\\site-packages (from typer<1.0,>=0.12->gradio) (1.5.4)\n",
      "Requirement already satisfied: rich>=10.11.0 in c:\\users\\msi -pc\\appdata\\local\\programs\\python\\python312\\lib\\site-packages (from typer<1.0,>=0.12->gradio) (13.9.4)\n",
      "Requirement already satisfied: colorama in c:\\users\\msi -pc\\appdata\\local\\programs\\python\\python312\\lib\\site-packages (from click>=8.0.0->typer<1.0,>=0.12->gradio) (0.4.6)\n",
      "Requirement already satisfied: six>=1.5 in c:\\users\\msi -pc\\appdata\\local\\programs\\python\\python312\\lib\\site-packages (from python-dateutil>=2.8.2->pandas<3.0,>=1.0->gradio) (1.16.0)\n",
      "Requirement already satisfied: markdown-it-py>=2.2.0 in c:\\users\\msi -pc\\appdata\\local\\programs\\python\\python312\\lib\\site-packages (from rich>=10.11.0->typer<1.0,>=0.12->gradio) (3.0.0)\n",
      "Requirement already satisfied: pygments<3.0.0,>=2.13.0 in c:\\users\\msi -pc\\appdata\\roaming\\python\\python312\\site-packages (from rich>=10.11.0->typer<1.0,>=0.12->gradio) (2.18.0)\n",
      "Requirement already satisfied: charset-normalizer<4,>=2 in c:\\users\\msi -pc\\appdata\\local\\programs\\python\\python312\\lib\\site-packages (from requests->huggingface-hub>=0.28.1->gradio) (3.4.0)\n",
      "Requirement already satisfied: urllib3<3,>=1.21.1 in c:\\users\\msi -pc\\appdata\\local\\programs\\python\\python312\\lib\\site-packages (from requests->huggingface-hub>=0.28.1->gradio) (2.2.3)\n",
      "Requirement already satisfied: mdurl~=0.1 in c:\\users\\msi -pc\\appdata\\local\\programs\\python\\python312\\lib\\site-packages (from markdown-it-py>=2.2.0->rich>=10.11.0->typer<1.0,>=0.12->gradio) (0.1.2)\n",
      "Note: you may need to restart the kernel to use updated packages.\n"
     ]
    },
    {
     "name": "stderr",
     "output_type": "stream",
     "text": [
      "\n",
      "[notice] A new release of pip is available: 24.3.1 -> 25.1.1\n",
      "[notice] To update, run: python.exe -m pip install --upgrade pip\n"
     ]
    }
   ],
   "source": [
    "%pip install gradio"
   ]
  },
  {
   "cell_type": "code",
   "execution_count": 3,
   "id": "f4ecea46",
   "metadata": {},
   "outputs": [],
   "source": [
    "\n",
    "import ollama\n",
    "\n",
    "def get_ollama_model(model_name=r\"hf.co/bartowski/Llama-3.2-1B-Instruct-GGUF:latest\"):\n",
    "\n",
    "    return model_name\n"
   ]
  },
  {
   "cell_type": "code",
   "execution_count": 4,
   "id": "27f73251",
   "metadata": {},
   "outputs": [],
   "source": [
    "def build_moral_story_prompt(user_prompt):\n",
    "    system_prompt = (\n",
    "        \"<|begin_of_text|><|start_header_id|>system<|end_header_id|>\\n\"\n",
    "        \"You are a storyteller who creates engaging short stories with clear moral lessons. \"\n",
    "        \"Each story should be appropriate for all ages, between 150-300 words, \"\n",
    "        \"and end with a clearly stated moral. Write in clear English.\\n<|eot_id|>\"\n",
    "        \"<|start_header_id|>user<|end_header_id|>\\n\"\n",
    "    )\n",
    "    assistant_tag = \"\\n<|eot_id|><|start_header_id|>assistant<|end_header_id|>\"\n",
    "    return system_prompt + user_prompt + assistant_tag\n"
   ]
  },
  {
   "cell_type": "code",
   "execution_count": 5,
   "id": "804278f1",
   "metadata": {},
   "outputs": [
    {
     "name": "stdout",
     "output_type": "stream",
     "text": [
      "\n",
      "--- Generated Moral Story ---\n",
      "\n",
      "In the heart of the jungle, there lived a mischievous monkey named Max. He was known for his love of shiny objects and treasures that he found hidden away in trees. One day, while exploring, Max stumbled upon a beautiful gemstone nestled among the leaves.\n",
      "\n",
      "At first, Max's eyes grew wide with excitement as he held the gemstone close to his heart. He knew it would be the most precious thing he'd ever find. But then, he heard the chatter of his friends and saw how sad their eyes looked when they didn't know what to do.\n",
      "\n",
      "Feeling guilty for not sharing, Max decided to ask his friends if they wanted a share of the gemstone. To his surprise, none of them wanted it. \"It's too expensive!\" one said. \"We don't need something as valuable as that,\" another chimed in.\n",
      "\n",
      "Max felt terrible and realized he had been foolish. He couldn't eat or use the gemstone himself. So, he asked if they could trade for something they needed instead. His friends agreed to exchange their favorite berries with some of Max's shiny objects.\n",
      "\n",
      "As they traded, Max learned an important lesson: sharing is a kind act that brings more than just value – it brings joy and friendship. From then on, Max made sure to share his treasures with those around him, helping others and creating memories in the process. The moral of the story is: Sharing with others can bring happiness not only for ourselves but also for them.\n",
      "\n",
      "As the sun set over the jungle, Max smiled at his friends, knowing that sharing had enriched their lives more than any treasure could ever do.\n"
     ]
    }
   ],
   "source": [
    "def generate_story(user_prompt, max_tokens=400):\n",
    "    model = get_ollama_model()\n",
    "    full_prompt = build_moral_story_prompt(user_prompt)\n",
    "    response = ollama.generate(\n",
    "        model=model,\n",
    "        prompt=full_prompt,\n",
    "        options={\n",
    "            \"temperature\": 0.7,  # Slightly lower temperature for more coherent stories\n",
    "            \"num_predict\": max_tokens\n",
    "        }\n",
    "    )\n",
    "    return response['response']\n",
    "\n",
    "prompt = \"Write a story about a greedy monkey who learns to share with his jungle friends.\"\n",
    "story = generate_story(prompt)\n",
    "print(\"\\n--- Generated Moral Story ---\\n\")\n",
    "print(story)\n"
   ]
  }
 ],
 "metadata": {
  "kernelspec": {
   "display_name": "Python 3",
   "language": "python",
   "name": "python3"
  },
  "language_info": {
   "codemirror_mode": {
    "name": "ipython",
    "version": 3
   },
   "file_extension": ".py",
   "mimetype": "text/x-python",
   "name": "python",
   "nbconvert_exporter": "python",
   "pygments_lexer": "ipython3",
   "version": "3.12.6"
  }
 },
 "nbformat": 4,
 "nbformat_minor": 5
}
